{
  "nbformat": 4,
  "nbformat_minor": 0,
  "metadata": {
    "kernelspec": {
      "display_name": "Python 3",
      "language": "python",
      "name": "python3"
    },
    "language_info": {
      "codemirror_mode": {
        "name": "ipython",
        "version": 3
      },
      "file_extension": ".py",
      "mimetype": "text/x-python",
      "name": "python",
      "nbconvert_exporter": "python",
      "pygments_lexer": "ipython3",
      "version": "3.7.0"
    },
    "colab": {
      "name": "aula2_exercicios.ipynb",
      "provenance": [],
      "collapsed_sections": [],
      "include_colab_link": true
    }
  },
  "cells": [
    {
      "cell_type": "markdown",
      "metadata": {
        "id": "view-in-github",
        "colab_type": "text"
      },
      "source": [
        "<a href=\"https://colab.research.google.com/github/allanjales/efficiency_tagandprobe/blob/master/exerc%C3%ADcios/aula2_exercicios.ipynb\" target=\"_parent\"><img src=\"https://colab.research.google.com/assets/colab-badge.svg\" alt=\"Open In Colab\"/></a>"
      ]
    },
    {
      "cell_type": "markdown",
      "metadata": {
        "id": "Vz8GxGVqyAm5"
      },
      "source": [
        "## Exercícios\n",
        "\n",
        "### Exercício 1:\n",
        "Considere as seguintes declarações de atribuições:\n",
        "   * largura = 17 \n",
        "   * altura = 12.0\n",
        "   * delimitador = \".\"\n",
        "   \n",
        "Para cada uma das expressões a seguir, escreva o valor das expressões e o tipo (do valor da expressão):\n",
        "1. largura/2\n",
        "1. largura/2.0\n",
        "1. altura/3\n",
        "1. 1 + 2 * 5\n",
        "1. delimitador*5\n",
        "\n",
        "Use o interpretador de python para verificar suas respostas.\n",
        "\n",
        "### Exercício 2:\n",
        "O volume de uma esfera de raio *r* é $\\frac{4}{3} \\pi r^{3}$ \n",
        "\n",
        "Qual é o volume de uma esfera de raio 5?\n",
        "\n",
        "### Exercício 3:\n",
        "Suponha que o preço de um livro seja 24.95 reais, porém as livrarias têm desconto de 40%. Os custos de envio são de 3.00 reais para o primeiro livro e 0.75 reais para os livros adicionais. Qual é o custo total da compra de 60 livros?  \n",
        "\n",
        "### Exercício 4:\n",
        "Um laser vermelho (com comprimento de onda $\\lambda = 632.8$ nm) incide em uma fenda dupla produzindo um padrão de interferência com franjas claras e escuras, em um anteparo situado a uma distância D = 1.98 m da fenda. Calcule a distância $\\Delta y$ entre dois máximos consecutivos de interferência. Considere o espaçamento entre as fendas, $d$, como sendo igual a 0.250 mm.\n",
        "*Dica: a distância entre dois máximos de interferência consecutivos pode ser aproximada por $\\Delta y = \\frac{\\lambda D}{d}$.*"
      ]
    },
    {
      "cell_type": "code",
      "metadata": {
        "id": "f0kOrKrWlzYe",
        "outputId": "9a9e8253-89b5-45f8-b4ad-fd21f1cdb740",
        "colab": {
          "base_uri": "https://localhost:8080/",
          "height": 102
        }
      },
      "source": [
        "#Exercício 1\n",
        "\n",
        "#Definição de variáveis\n",
        "largura = 17\n",
        "altura = 12.0\n",
        "delimitador = \".\"\n",
        "\n",
        "#Exibição dos resultados\n",
        "print(largura/2, type(largura/2))\n",
        "print(largura/2.0, type(largura/2.0))\n",
        "print(altura/3, type(altura/3))\n",
        "print(1 + 2 * 5, type(1 + 2 * 5))\n",
        "print(delimitador*5, type(delimitador*5))"
      ],
      "execution_count": null,
      "outputs": [
        {
          "output_type": "stream",
          "text": [
            "8.5 <class 'float'>\n",
            "8.5 <class 'float'>\n",
            "4.0 <class 'float'>\n",
            "11 <class 'int'>\n",
            "..... <class 'str'>\n"
          ],
          "name": "stdout"
        }
      ]
    },
    {
      "cell_type": "code",
      "metadata": {
        "id": "ZQCmOeF6mRdf",
        "outputId": "2cb4adf7-7038-45fb-dfcd-cf2f2b05f0e6",
        "colab": {
          "base_uri": "https://localhost:8080/",
          "height": 34
        }
      },
      "source": [
        "#Exercício 2\n",
        "import math\n",
        "\n",
        "#Definição de variáveis\n",
        "raio = 5\n",
        "\n",
        "#Cálculo\n",
        "volume = 4/3*math.pi*raio**2\n",
        "\n",
        "#Exibição dos resultados\n",
        "print(\"Para uma esfera de raio\", raio, \"unidades, o volume é\", volume,\"unidades\")"
      ],
      "execution_count": 1,
      "outputs": [
        {
          "output_type": "stream",
          "text": [
            "Para uma esfera de raio 5 unidades, o volume é 104.71975511965977 unidades\n"
          ],
          "name": "stdout"
        }
      ]
    },
    {
      "cell_type": "code",
      "metadata": {
        "id": "B9nBcAcwoNYD"
      },
      "source": [
        "#Exercício 3\n",
        "\n",
        "#Definição de variáveis\n",
        "preco = 24.95\n",
        "desconto = 0.40\n",
        "envio_1 = 3.00\n",
        "envio_adicional = 0.75\n",
        "quantidade_de_itens = 60\n",
        "\n",
        "#Cálculo\n",
        "valor = 0\n",
        "if (quantidade_de_itens > 0):\n",
        "  valor = preco*(1-desconto)+envio_1\n",
        "if (quantidade_de_itens > 1):\n",
        "  valor += (preco*(1-desconto)+envio_adicional)*(quantidade_de_itens-1)\n",
        "\n",
        "#Exibição dos resultados\n",
        "print(\"O valor total da compra é de\", valor, \"reais\")"
      ],
      "execution_count": null,
      "outputs": []
    },
    {
      "cell_type": "code",
      "metadata": {
        "id": "V3NcD1kbm6BJ"
      },
      "source": [
        "#Exercício 4\n",
        "import math\n",
        "\n",
        "#Definição de variáveis\n",
        "raio = 5\n",
        "\n",
        "#Cálculo\n",
        "volume = 4/3*math.pi*raio**2\n",
        "\n",
        "#Exibição dos resultados\n",
        "print(\"Para uma esfera de raio\", raio, \"unidades, o volume é\", volume,\"unidades\")"
      ],
      "execution_count": null,
      "outputs": []
    },
    {
      "cell_type": "code",
      "metadata": {
        "id": "7PgDHBWanBUk"
      },
      "source": [
        "#Exercício 4\n",
        "\n",
        "#Definição de variáveis\n",
        "comprimento_de_onda = 632.8 #nm\n",
        "distancia_do_anteparo = 1.98 #m\n",
        "espacamento_entre_as_fendas = 0.250 #mm\n",
        "\n",
        "#Cálculo\n",
        "distancia_entre_franjas = (comprimento_de_onda*distancia_do_anteparo/espacamento_entre_as_fendas)\n",
        "\n",
        "#Exibição dos resultados\n",
        "print(\"Os máximos consecutivos de interferência estão há\", distancia_entre_franjas, \"mm de distância\")"
      ],
      "execution_count": null,
      "outputs": []
    }
  ]
}